{
 "cells": [
  {
   "cell_type": "code",
   "execution_count": 90,
   "id": "71799dfd",
   "metadata": {},
   "outputs": [
    {
     "data": {
      "text/html": [
       "<div>\n",
       "<style scoped>\n",
       "    .dataframe tbody tr th:only-of-type {\n",
       "        vertical-align: middle;\n",
       "    }\n",
       "\n",
       "    .dataframe tbody tr th {\n",
       "        vertical-align: top;\n",
       "    }\n",
       "\n",
       "    .dataframe thead th {\n",
       "        text-align: right;\n",
       "    }\n",
       "</style>\n",
       "<table border=\"1\" class=\"dataframe\">\n",
       "  <thead>\n",
       "    <tr style=\"text-align: right;\">\n",
       "      <th></th>\n",
       "      <th>Sepal length</th>\n",
       "      <th>Sepal width</th>\n",
       "      <th>Petal length</th>\n",
       "      <th>Petal width</th>\n",
       "    </tr>\n",
       "  </thead>\n",
       "  <tbody>\n",
       "    <tr>\n",
       "      <th>0</th>\n",
       "      <td>5.1</td>\n",
       "      <td>3.5</td>\n",
       "      <td>1.4</td>\n",
       "      <td>0.2</td>\n",
       "    </tr>\n",
       "    <tr>\n",
       "      <th>1</th>\n",
       "      <td>4.9</td>\n",
       "      <td>3.0</td>\n",
       "      <td>1.4</td>\n",
       "      <td>0.2</td>\n",
       "    </tr>\n",
       "    <tr>\n",
       "      <th>2</th>\n",
       "      <td>4.7</td>\n",
       "      <td>3.2</td>\n",
       "      <td>1.3</td>\n",
       "      <td>0.2</td>\n",
       "    </tr>\n",
       "    <tr>\n",
       "      <th>3</th>\n",
       "      <td>4.6</td>\n",
       "      <td>3.1</td>\n",
       "      <td>1.5</td>\n",
       "      <td>0.2</td>\n",
       "    </tr>\n",
       "    <tr>\n",
       "      <th>4</th>\n",
       "      <td>5.0</td>\n",
       "      <td>3.6</td>\n",
       "      <td>1.4</td>\n",
       "      <td>0.2</td>\n",
       "    </tr>\n",
       "  </tbody>\n",
       "</table>\n",
       "</div>"
      ],
      "text/plain": [
       "   Sepal length  Sepal width  Petal length  Petal width\n",
       "0           5.1          3.5           1.4          0.2\n",
       "1           4.9          3.0           1.4          0.2\n",
       "2           4.7          3.2           1.3          0.2\n",
       "3           4.6          3.1           1.5          0.2\n",
       "4           5.0          3.6           1.4          0.2"
      ]
     },
     "execution_count": 90,
     "metadata": {},
     "output_type": "execute_result"
    }
   ],
   "source": [
    "import pandas as pd\n",
    "import prince\n",
    "from sklearn import datasets\n",
    "\n",
    "X, y = datasets.load_iris(return_X_y=True)\n",
    "X = pd.DataFrame(data=X, columns=['Sepal length', 'Sepal width', 'Petal length', 'Petal width'])\n",
    "y = pd.Series(y).map({0: 'Setosa', 1: 'Versicolor', 2: 'Virginica'})\n",
    "X.head()"
   ]
  },
  {
   "cell_type": "code",
   "execution_count": 91,
   "id": "a9127fea",
   "metadata": {},
   "outputs": [],
   "source": [
    "pca = prince.PCA(\n",
    "...     n_components=2,\n",
    "...     n_iter=3,\n",
    "...     rescale_with_mean=True,\n",
    "...     rescale_with_std=True,\n",
    "...     copy=True,\n",
    "...     check_input=True,\n",
    "...     engine='auto',\n",
    "...     random_state=42\n",
    "... )\n",
    "pca = pca.fit(X)"
   ]
  },
  {
   "cell_type": "code",
   "execution_count": 92,
   "id": "bbf09ff8",
   "metadata": {},
   "outputs": [
    {
     "data": {
      "text/html": [
       "<div>\n",
       "<style scoped>\n",
       "    .dataframe tbody tr th:only-of-type {\n",
       "        vertical-align: middle;\n",
       "    }\n",
       "\n",
       "    .dataframe tbody tr th {\n",
       "        vertical-align: top;\n",
       "    }\n",
       "\n",
       "    .dataframe thead th {\n",
       "        text-align: right;\n",
       "    }\n",
       "</style>\n",
       "<table border=\"1\" class=\"dataframe\">\n",
       "  <thead>\n",
       "    <tr style=\"text-align: right;\">\n",
       "      <th></th>\n",
       "      <th>0</th>\n",
       "      <th>1</th>\n",
       "    </tr>\n",
       "  </thead>\n",
       "  <tbody>\n",
       "    <tr>\n",
       "      <th>0</th>\n",
       "      <td>-2.264703</td>\n",
       "      <td>0.480027</td>\n",
       "    </tr>\n",
       "    <tr>\n",
       "      <th>1</th>\n",
       "      <td>-2.080961</td>\n",
       "      <td>-0.674134</td>\n",
       "    </tr>\n",
       "    <tr>\n",
       "      <th>2</th>\n",
       "      <td>-2.364229</td>\n",
       "      <td>-0.341908</td>\n",
       "    </tr>\n",
       "    <tr>\n",
       "      <th>3</th>\n",
       "      <td>-2.299384</td>\n",
       "      <td>-0.597395</td>\n",
       "    </tr>\n",
       "    <tr>\n",
       "      <th>4</th>\n",
       "      <td>-2.389842</td>\n",
       "      <td>0.646835</td>\n",
       "    </tr>\n",
       "  </tbody>\n",
       "</table>\n",
       "</div>"
      ],
      "text/plain": [
       "          0         1\n",
       "0 -2.264703  0.480027\n",
       "1 -2.080961 -0.674134\n",
       "2 -2.364229 -0.341908\n",
       "3 -2.299384 -0.597395\n",
       "4 -2.389842  0.646835"
      ]
     },
     "execution_count": 92,
     "metadata": {},
     "output_type": "execute_result"
    }
   ],
   "source": [
    "pca.transform(X).head()"
   ]
  },
  {
   "cell_type": "code",
   "execution_count": 93,
   "id": "f7da503b",
   "metadata": {},
   "outputs": [
    {
     "data": {
      "image/png": "[encoded data removed]",
      "text/plain": [
       "<Figure size 432x432 with 1 Axes>"
      ]
     },
     "metadata": {
      "needs_background": "light"
     },
     "output_type": "display_data"
    }
   ],
   "source": [
    "ax = pca.plot_row_coordinates(\n",
    "...     X,\n",
    "...     ax=None,\n",
    "...     figsize=(6, 6),\n",
    "...     x_component=0,\n",
    "...     y_component=1,\n",
    "...     labels=None,\n",
    "...     color_labels=y,\n",
    "...     ellipse_outline=False,\n",
    "...     ellipse_fill=True,\n",
    "...     show_points=True\n",
    "... )\n",
    "ax.get_figure().savefig('images/pca_row_coordinates.svg')"
   ]
  },
  {
   "cell_type": "code",
   "execution_count": 94,
   "id": "973f1b15",
   "metadata": {},
   "outputs": [
    {
     "data": {
      "text/plain": [
       "array([0.72962445, 0.22850762])"
      ]
     },
     "execution_count": 94,
     "metadata": {},
     "output_type": "execute_result"
    }
   ],
   "source": [
    "pca.explained_inertia_"
   ]
  },
  {
   "cell_type": "markdown",
   "id": "13643427",
   "metadata": {},
   "source": [
    "pca.eigenvalues_"
   ]
  },
  {
   "cell_type": "code",
   "execution_count": 12,
   "id": "c47b5739",
   "metadata": {},
   "outputs": [
    {
     "data": {
      "text/plain": [
       "4.000000000000001"
      ]
     },
     "execution_count": 12,
     "metadata": {},
     "output_type": "execute_result"
    }
   ],
   "source": [
    "pca.total_inertia_"
   ]
  },
  {
   "cell_type": "code",
   "execution_count": 13,
   "id": "3cfd9696",
   "metadata": {},
   "outputs": [
    {
     "data": {
      "text/plain": [
       "array([0.72962445, 0.22850762])"
      ]
     },
     "execution_count": 13,
     "metadata": {},
     "output_type": "execute_result"
    }
   ],
   "source": [
    "pca.explained_inertia_"
   ]
  },
  {
   "cell_type": "code",
   "execution_count": 14,
   "id": "0690d0b8",
   "metadata": {},
   "outputs": [
    {
     "data": {
      "text/html": [
       "<div>\n",
       "<style scoped>\n",
       "    .dataframe tbody tr th:only-of-type {\n",
       "        vertical-align: middle;\n",
       "    }\n",
       "\n",
       "    .dataframe tbody tr th {\n",
       "        vertical-align: top;\n",
       "    }\n",
       "\n",
       "    .dataframe thead th {\n",
       "        text-align: right;\n",
       "    }\n",
       "</style>\n",
       "<table border=\"1\" class=\"dataframe\">\n",
       "  <thead>\n",
       "    <tr style=\"text-align: right;\">\n",
       "      <th></th>\n",
       "      <th>0</th>\n",
       "      <th>1</th>\n",
       "    </tr>\n",
       "  </thead>\n",
       "  <tbody>\n",
       "    <tr>\n",
       "      <th>Petal length</th>\n",
       "      <td>0.991555</td>\n",
       "      <td>0.023415</td>\n",
       "    </tr>\n",
       "    <tr>\n",
       "      <th>Petal width</th>\n",
       "      <td>0.964979</td>\n",
       "      <td>0.064000</td>\n",
       "    </tr>\n",
       "    <tr>\n",
       "      <th>Sepal length</th>\n",
       "      <td>0.890169</td>\n",
       "      <td>0.360830</td>\n",
       "    </tr>\n",
       "    <tr>\n",
       "      <th>Sepal width</th>\n",
       "      <td>-0.460143</td>\n",
       "      <td>0.882716</td>\n",
       "    </tr>\n",
       "  </tbody>\n",
       "</table>\n",
       "</div>"
      ],
      "text/plain": [
       "                     0         1\n",
       "Petal length  0.991555  0.023415\n",
       "Petal width   0.964979  0.064000\n",
       "Sepal length  0.890169  0.360830\n",
       "Sepal width  -0.460143  0.882716"
      ]
     },
     "execution_count": 14,
     "metadata": {},
     "output_type": "execute_result"
    }
   ],
   "source": [
    "pca.column_correlations(X)"
   ]
  },
  {
   "cell_type": "code",
   "execution_count": 15,
   "id": "b19bfa7c",
   "metadata": {},
   "outputs": [
    {
     "data": {
      "text/html": [
       "<div>\n",
       "<style scoped>\n",
       "    .dataframe tbody tr th:only-of-type {\n",
       "        vertical-align: middle;\n",
       "    }\n",
       "\n",
       "    .dataframe tbody tr th {\n",
       "        vertical-align: top;\n",
       "    }\n",
       "\n",
       "    .dataframe thead th {\n",
       "        text-align: right;\n",
       "    }\n",
       "</style>\n",
       "<table border=\"1\" class=\"dataframe\">\n",
       "  <thead>\n",
       "    <tr style=\"text-align: right;\">\n",
       "      <th></th>\n",
       "      <th>0</th>\n",
       "      <th>1</th>\n",
       "    </tr>\n",
       "  </thead>\n",
       "  <tbody>\n",
       "    <tr>\n",
       "      <th>0</th>\n",
       "      <td>1.757369</td>\n",
       "      <td>0.252098</td>\n",
       "    </tr>\n",
       "    <tr>\n",
       "      <th>1</th>\n",
       "      <td>1.483777</td>\n",
       "      <td>0.497200</td>\n",
       "    </tr>\n",
       "    <tr>\n",
       "      <th>2</th>\n",
       "      <td>1.915225</td>\n",
       "      <td>0.127896</td>\n",
       "    </tr>\n",
       "    <tr>\n",
       "      <th>3</th>\n",
       "      <td>1.811606</td>\n",
       "      <td>0.390447</td>\n",
       "    </tr>\n",
       "    <tr>\n",
       "      <th>4</th>\n",
       "      <td>1.956947</td>\n",
       "      <td>0.457748</td>\n",
       "    </tr>\n",
       "  </tbody>\n",
       "</table>\n",
       "</div>"
      ],
      "text/plain": [
       "          0         1\n",
       "0  1.757369  0.252098\n",
       "1  1.483777  0.497200\n",
       "2  1.915225  0.127896\n",
       "3  1.811606  0.390447\n",
       "4  1.956947  0.457748"
      ]
     },
     "execution_count": 15,
     "metadata": {},
     "output_type": "execute_result"
    }
   ],
   "source": [
    "pca.row_contributions(X).head()"
   ]
  },
  {
   "cell_type": "code",
   "execution_count": 16,
   "id": "4b11cf07",
   "metadata": {},
   "outputs": [
    {
     "data": {
      "text/html": [
       "<div>\n",
       "<style scoped>\n",
       "    .dataframe tbody tr th:only-of-type {\n",
       "        vertical-align: middle;\n",
       "    }\n",
       "\n",
       "    .dataframe tbody tr th {\n",
       "        vertical-align: top;\n",
       "    }\n",
       "\n",
       "    .dataframe thead th {\n",
       "        text-align: right;\n",
       "    }\n",
       "</style>\n",
       "<table border=\"1\" class=\"dataframe\">\n",
       "  <thead>\n",
       "    <tr style=\"text-align: right;\">\n",
       "      <th></th>\n",
       "      <th>0</th>\n",
       "      <th>1</th>\n",
       "      <th>2</th>\n",
       "      <th>3</th>\n",
       "    </tr>\n",
       "  </thead>\n",
       "  <tbody>\n",
       "    <tr>\n",
       "      <th>0</th>\n",
       "      <td>5.018949</td>\n",
       "      <td>3.514854</td>\n",
       "      <td>1.466013</td>\n",
       "      <td>0.251922</td>\n",
       "    </tr>\n",
       "    <tr>\n",
       "      <th>1</th>\n",
       "      <td>4.738463</td>\n",
       "      <td>3.030433</td>\n",
       "      <td>1.603913</td>\n",
       "      <td>0.272074</td>\n",
       "    </tr>\n",
       "    <tr>\n",
       "      <th>2</th>\n",
       "      <td>4.720130</td>\n",
       "      <td>3.196830</td>\n",
       "      <td>1.328961</td>\n",
       "      <td>0.167414</td>\n",
       "    </tr>\n",
       "    <tr>\n",
       "      <th>3</th>\n",
       "      <td>4.668436</td>\n",
       "      <td>3.086770</td>\n",
       "      <td>1.384170</td>\n",
       "      <td>0.182247</td>\n",
       "    </tr>\n",
       "    <tr>\n",
       "      <th>4</th>\n",
       "      <td>5.017093</td>\n",
       "      <td>3.596402</td>\n",
       "      <td>1.345411</td>\n",
       "      <td>0.206706</td>\n",
       "    </tr>\n",
       "  </tbody>\n",
       "</table>\n",
       "</div>"
      ],
      "text/plain": [
       "          0         1         2         3\n",
       "0  5.018949  3.514854  1.466013  0.251922\n",
       "1  4.738463  3.030433  1.603913  0.272074\n",
       "2  4.720130  3.196830  1.328961  0.167414\n",
       "3  4.668436  3.086770  1.384170  0.182247\n",
       "4  5.017093  3.596402  1.345411  0.206706"
      ]
     },
     "execution_count": 16,
     "metadata": {},
     "output_type": "execute_result"
    }
   ],
   "source": [
    "pca.inverse_transform(pca.transform(X)).head()"
   ]
  },
  {
   "cell_type": "markdown",
   "id": "a298949e",
   "metadata": {},
   "source": [
    "# Correspondence analysis (CA)\n",
    "You should be using correspondence analysis when you want to analyse a contingency table. In other words you want to analyse the dependencies between two categorical variables. The following example comes from section 17.2.3 of this textbook. It shows the number of occurrences between different hair and eye colors."
   ]
  },
  {
   "cell_type": "code",
   "execution_count": 95,
   "id": "f224fa1b",
   "metadata": {},
   "outputs": [
    {
     "data": {
      "text/html": [
       "<div>\n",
       "<style scoped>\n",
       "    .dataframe tbody tr th:only-of-type {\n",
       "        vertical-align: middle;\n",
       "    }\n",
       "\n",
       "    .dataframe tbody tr th {\n",
       "        vertical-align: top;\n",
       "    }\n",
       "\n",
       "    .dataframe thead th {\n",
       "        text-align: right;\n",
       "    }\n",
       "</style>\n",
       "<table border=\"1\" class=\"dataframe\">\n",
       "  <thead>\n",
       "    <tr style=\"text-align: right;\">\n",
       "      <th></th>\n",
       "      <th>Fair</th>\n",
       "      <th>Red</th>\n",
       "      <th>Medium</th>\n",
       "      <th>Dark</th>\n",
       "      <th>Black</th>\n",
       "    </tr>\n",
       "  </thead>\n",
       "  <tbody>\n",
       "    <tr>\n",
       "      <th>Blue</th>\n",
       "      <td>326</td>\n",
       "      <td>38</td>\n",
       "      <td>241</td>\n",
       "      <td>110</td>\n",
       "      <td>3</td>\n",
       "    </tr>\n",
       "    <tr>\n",
       "      <th>Light</th>\n",
       "      <td>688</td>\n",
       "      <td>116</td>\n",
       "      <td>584</td>\n",
       "      <td>188</td>\n",
       "      <td>4</td>\n",
       "    </tr>\n",
       "    <tr>\n",
       "      <th>Medium</th>\n",
       "      <td>343</td>\n",
       "      <td>84</td>\n",
       "      <td>909</td>\n",
       "      <td>412</td>\n",
       "      <td>26</td>\n",
       "    </tr>\n",
       "    <tr>\n",
       "      <th>Dark</th>\n",
       "      <td>98</td>\n",
       "      <td>48</td>\n",
       "      <td>403</td>\n",
       "      <td>681</td>\n",
       "      <td>85</td>\n",
       "    </tr>\n",
       "  </tbody>\n",
       "</table>\n",
       "</div>"
      ],
      "text/plain": [
       "        Fair  Red  Medium  Dark  Black\n",
       "Blue     326   38     241   110      3\n",
       "Light    688  116     584   188      4\n",
       "Medium   343   84     909   412     26\n",
       "Dark      98   48     403   681     85"
      ]
     },
     "execution_count": 95,
     "metadata": {},
     "output_type": "execute_result"
    }
   ],
   "source": [
    "import pandas as pd\n",
    "\n",
    "pd.set_option('display.float_format', lambda x: '{:.6f}'.format(x))\n",
    "X = pd.DataFrame(\n",
    "    data=[\n",
    "        [326, 38, 241, 110, 3],\n",
    "        [688, 116, 584, 188, 4],\n",
    "        [343, 84, 909, 412, 26],\n",
    "        [98, 48, 403, 681, 85]\n",
    "    ],\n",
    "    columns=pd.Series(['Fair', 'Red', 'Medium', 'Dark', 'Black']),\n",
    "    index=pd.Series(['Blue', 'Light', 'Medium', 'Dark'])\n",
    ")\n",
    "X"
   ]
  },
  {
   "cell_type": "markdown",
   "id": "fcdee49d",
   "metadata": {},
   "source": [
    "Unlike the PCA class, the CA only exposes scikit-learn's fit method."
   ]
  },
  {
   "cell_type": "code",
   "execution_count": 96,
   "id": "76de867e",
   "metadata": {},
   "outputs": [],
   "source": [
    "\n",
    "import prince\n",
    "ca = prince.CA(n_components=2,n_iter=3,copy=True,check_input=True,engine='auto',random_state=42)\n",
    "X.columns.rename('Hair color', inplace=True)\n",
    "X.index.rename('Eye color', inplace=True)\n",
    "ca = ca.fit(X)"
   ]
  },
  {
   "cell_type": "code",
   "execution_count": 97,
   "id": "7152daa8",
   "metadata": {},
   "outputs": [
    {
     "data": {
      "text/html": [
       "<div>\n",
       "<style scoped>\n",
       "    .dataframe tbody tr th:only-of-type {\n",
       "        vertical-align: middle;\n",
       "    }\n",
       "\n",
       "    .dataframe tbody tr th {\n",
       "        vertical-align: top;\n",
       "    }\n",
       "\n",
       "    .dataframe thead th {\n",
       "        text-align: right;\n",
       "    }\n",
       "</style>\n",
       "<table border=\"1\" class=\"dataframe\">\n",
       "  <thead>\n",
       "    <tr style=\"text-align: right;\">\n",
       "      <th></th>\n",
       "      <th>0</th>\n",
       "      <th>1</th>\n",
       "    </tr>\n",
       "  </thead>\n",
       "  <tbody>\n",
       "    <tr>\n",
       "      <th>Blue</th>\n",
       "      <td>-0.400300</td>\n",
       "      <td>-0.165411</td>\n",
       "    </tr>\n",
       "    <tr>\n",
       "      <th>Light</th>\n",
       "      <td>-0.440708</td>\n",
       "      <td>-0.088463</td>\n",
       "    </tr>\n",
       "    <tr>\n",
       "      <th>Medium</th>\n",
       "      <td>0.033614</td>\n",
       "      <td>0.245002</td>\n",
       "    </tr>\n",
       "    <tr>\n",
       "      <th>Dark</th>\n",
       "      <td>0.702739</td>\n",
       "      <td>-0.133914</td>\n",
       "    </tr>\n",
       "  </tbody>\n",
       "</table>\n",
       "</div>"
      ],
      "text/plain": [
       "               0         1\n",
       "Blue   -0.400300 -0.165411\n",
       "Light  -0.440708 -0.088463\n",
       "Medium  0.033614  0.245002\n",
       "Dark    0.702739 -0.133914"
      ]
     },
     "execution_count": 97,
     "metadata": {},
     "output_type": "execute_result"
    }
   ],
   "source": [
    "ca.row_coordinates(X)"
   ]
  },
  {
   "cell_type": "code",
   "execution_count": 98,
   "id": "4e746bac",
   "metadata": {},
   "outputs": [
    {
     "data": {
      "text/html": [
       "<div>\n",
       "<style scoped>\n",
       "    .dataframe tbody tr th:only-of-type {\n",
       "        vertical-align: middle;\n",
       "    }\n",
       "\n",
       "    .dataframe tbody tr th {\n",
       "        vertical-align: top;\n",
       "    }\n",
       "\n",
       "    .dataframe thead th {\n",
       "        text-align: right;\n",
       "    }\n",
       "</style>\n",
       "<table border=\"1\" class=\"dataframe\">\n",
       "  <thead>\n",
       "    <tr style=\"text-align: right;\">\n",
       "      <th></th>\n",
       "      <th>0</th>\n",
       "      <th>1</th>\n",
       "    </tr>\n",
       "  </thead>\n",
       "  <tbody>\n",
       "    <tr>\n",
       "      <th>Fair</th>\n",
       "      <td>-0.543995</td>\n",
       "      <td>-0.173844</td>\n",
       "    </tr>\n",
       "    <tr>\n",
       "      <th>Red</th>\n",
       "      <td>-0.233261</td>\n",
       "      <td>-0.048279</td>\n",
       "    </tr>\n",
       "    <tr>\n",
       "      <th>Medium</th>\n",
       "      <td>-0.042024</td>\n",
       "      <td>0.208304</td>\n",
       "    </tr>\n",
       "    <tr>\n",
       "      <th>Dark</th>\n",
       "      <td>0.588709</td>\n",
       "      <td>-0.103950</td>\n",
       "    </tr>\n",
       "    <tr>\n",
       "      <th>Black</th>\n",
       "      <td>1.094388</td>\n",
       "      <td>-0.286437</td>\n",
       "    </tr>\n",
       "  </tbody>\n",
       "</table>\n",
       "</div>"
      ],
      "text/plain": [
       "               0         1\n",
       "Fair   -0.543995 -0.173844\n",
       "Red    -0.233261 -0.048279\n",
       "Medium -0.042024  0.208304\n",
       "Dark    0.588709 -0.103950\n",
       "Black   1.094388 -0.286437"
      ]
     },
     "execution_count": 98,
     "metadata": {},
     "output_type": "execute_result"
    }
   ],
   "source": [
    "ca.column_coordinates(X)"
   ]
  },
  {
   "cell_type": "code",
   "execution_count": 99,
   "id": "3e5a2775",
   "metadata": {},
   "outputs": [
    {
     "data": {
      "image/png": "[encoded data removed]",
      "text/plain": [
       "<Figure size 432x432 with 1 Axes>"
      ]
     },
     "metadata": {
      "needs_background": "light"
     },
     "output_type": "display_data"
    }
   ],
   "source": [
    "ax = ca.plot_coordinates(\n",
    "...     X=X,\n",
    "...     ax=None,\n",
    "...     figsize=(6, 6),\n",
    "...     x_component=0,\n",
    "...     y_component=1,\n",
    "...     show_row_labels=True,\n",
    "...     show_col_labels=True\n",
    "... )\n",
    "ax.get_figure().savefig('images/ca_coordinates.svg')"
   ]
  },
  {
   "cell_type": "code",
   "execution_count": 100,
   "id": "b363692f",
   "metadata": {},
   "outputs": [
    {
     "data": {
      "text/plain": [
       "[0.19924475202819097, 0.030086774100411818]"
      ]
     },
     "execution_count": 100,
     "metadata": {},
     "output_type": "execute_result"
    }
   ],
   "source": [
    "ca.eigenvalues_"
   ]
  },
  {
   "cell_type": "code",
   "execution_count": 101,
   "id": "d96a2903",
   "metadata": {},
   "outputs": [
    {
     "data": {
      "text/plain": [
       "0.23019100748666482"
      ]
     },
     "execution_count": 101,
     "metadata": {},
     "output_type": "execute_result"
    }
   ],
   "source": [
    "ca.total_inertia_"
   ]
  },
  {
   "cell_type": "code",
   "execution_count": 102,
   "id": "7f5f922b",
   "metadata": {},
   "outputs": [
    {
     "data": {
      "text/plain": [
       "[0.8655627090025808, 0.13070351630549587]"
      ]
     },
     "execution_count": 102,
     "metadata": {},
     "output_type": "execute_result"
    }
   ],
   "source": [
    "ca.explained_inertia_"
   ]
  },
  {
   "cell_type": "markdown",
   "id": "a8b14072",
   "metadata": {},
   "source": [
    "# Multiple correspondence analysis (MCA)\n",
    "Multiple correspondence analysis (MCA) is an extension of correspondence analysis (CA). It should be used when you have more than two categorical variables. The idea is simply to compute the one-hot encoded version of a dataset and apply CA on it. As an example we're going to use the balloons dataset taken from the UCI datasets website."
   ]
  },
  {
   "cell_type": "code",
   "execution_count": 103,
   "id": "42676e59",
   "metadata": {},
   "outputs": [
    {
     "data": {
      "text/html": [
       "<div>\n",
       "<style scoped>\n",
       "    .dataframe tbody tr th:only-of-type {\n",
       "        vertical-align: middle;\n",
       "    }\n",
       "\n",
       "    .dataframe tbody tr th {\n",
       "        vertical-align: top;\n",
       "    }\n",
       "\n",
       "    .dataframe thead th {\n",
       "        text-align: right;\n",
       "    }\n",
       "</style>\n",
       "<table border=\"1\" class=\"dataframe\">\n",
       "  <thead>\n",
       "    <tr style=\"text-align: right;\">\n",
       "      <th></th>\n",
       "      <th>Color</th>\n",
       "      <th>Size</th>\n",
       "      <th>Action</th>\n",
       "      <th>Age</th>\n",
       "      <th>Inflated</th>\n",
       "    </tr>\n",
       "  </thead>\n",
       "  <tbody>\n",
       "    <tr>\n",
       "      <th>0</th>\n",
       "      <td>YELLOW</td>\n",
       "      <td>SMALL</td>\n",
       "      <td>STRETCH</td>\n",
       "      <td>ADULT</td>\n",
       "      <td>T</td>\n",
       "    </tr>\n",
       "    <tr>\n",
       "      <th>1</th>\n",
       "      <td>YELLOW</td>\n",
       "      <td>SMALL</td>\n",
       "      <td>STRETCH</td>\n",
       "      <td>CHILD</td>\n",
       "      <td>F</td>\n",
       "    </tr>\n",
       "    <tr>\n",
       "      <th>2</th>\n",
       "      <td>YELLOW</td>\n",
       "      <td>SMALL</td>\n",
       "      <td>DIP</td>\n",
       "      <td>ADULT</td>\n",
       "      <td>F</td>\n",
       "    </tr>\n",
       "    <tr>\n",
       "      <th>3</th>\n",
       "      <td>YELLOW</td>\n",
       "      <td>SMALL</td>\n",
       "      <td>DIP</td>\n",
       "      <td>CHILD</td>\n",
       "      <td>F</td>\n",
       "    </tr>\n",
       "    <tr>\n",
       "      <th>4</th>\n",
       "      <td>YELLOW</td>\n",
       "      <td>LARGE</td>\n",
       "      <td>STRETCH</td>\n",
       "      <td>ADULT</td>\n",
       "      <td>T</td>\n",
       "    </tr>\n",
       "  </tbody>\n",
       "</table>\n",
       "</div>"
      ],
      "text/plain": [
       "    Color   Size   Action    Age Inflated\n",
       "0  YELLOW  SMALL  STRETCH  ADULT        T\n",
       "1  YELLOW  SMALL  STRETCH  CHILD        F\n",
       "2  YELLOW  SMALL      DIP  ADULT        F\n",
       "3  YELLOW  SMALL      DIP  CHILD        F\n",
       "4  YELLOW  LARGE  STRETCH  ADULT        T"
      ]
     },
     "execution_count": 103,
     "metadata": {},
     "output_type": "execute_result"
    }
   ],
   "source": [
    "import pandas as pd\n",
    "\n",
    "X = pd.read_csv('https://archive.ics.uci.edu/ml/machine-learning-databases/balloons/adult+stretch.data')\n",
    "X.columns = ['Color', 'Size', 'Action', 'Age', 'Inflated']\n",
    "X.head()"
   ]
  },
  {
   "cell_type": "code",
   "execution_count": 48,
   "id": "62995437",
   "metadata": {},
   "outputs": [],
   "source": [
    "import prince\n",
    "mca = prince.MCA(\n",
    "     n_components=2,\n",
    "     n_iter=3,\n",
    "     copy=True,\n",
    "     check_input=True,\n",
    "     engine='auto',\n",
    "     random_state=42\n",
    ")\n",
    "mca = mca.fit(X)"
   ]
  },
  {
   "cell_type": "code",
   "execution_count": 50,
   "id": "141e942a",
   "metadata": {},
   "outputs": [
    {
     "data": {
      "image/png": "[encoded data removed]",
      "text/plain": [
       "<Figure size 432x432 with 1 Axes>"
      ]
     },
     "metadata": {
      "needs_background": "light"
     },
     "output_type": "display_data"
    }
   ],
   "source": [
    "ax = mca.plot_coordinates(\n",
    "...     X=X,\n",
    "...     ax=None,\n",
    "...     figsize=(6, 6),\n",
    "...     show_row_points=True,\n",
    "...     row_points_size=10,\n",
    "...     show_row_labels=False,\n",
    "...     #row_groups=None,\n",
    "...     show_column_points=True,\n",
    "...     column_points_size=30,\n",
    "...     show_column_labels=False,\n",
    "...     legend_n_cols=1\n",
    "... )\n",
    "ax.get_figure().savefig('images/mca_coordinates.svg')"
   ]
  },
  {
   "cell_type": "code",
   "execution_count": 53,
   "id": "e4e34f1e",
   "metadata": {},
   "outputs": [
    {
     "data": {
      "image/png": "[encoded data removed]",
      "text/plain": [
       "<Figure size 432x432 with 1 Axes>"
      ]
     },
     "metadata": {
      "needs_background": "light"
     },
     "output_type": "display_data"
    }
   ],
   "source": [
    "groups = ['CAT_A']*10+['CAT_B']*9\n",
    "ax = mca.plot_coordinates(\n",
    "     X=X,\n",
    "     ax=None,\n",
    "     figsize=(6, 6),\n",
    "     show_row_points=True,\n",
    "     row_points_size=10,\n",
    "     show_row_labels=False,\n",
    "     #row_groups=groups,\n",
    "     show_column_points=True,\n",
    "     column_points_size=30,\n",
    "     show_column_labels=False,\n",
    "     legend_n_cols=1\n",
    ")\n",
    "ax.get_figure().savefig('images/mca_coordinates_with_groups.svg')"
   ]
  },
  {
   "cell_type": "code",
   "execution_count": 54,
   "id": "f537f670",
   "metadata": {},
   "outputs": [
    {
     "data": {
      "text/plain": [
       "[0.19721592491900203, 0.06305717648295647]"
      ]
     },
     "execution_count": 54,
     "metadata": {},
     "output_type": "execute_result"
    }
   ],
   "source": [
    "mca.eigenvalues_"
   ]
  },
  {
   "cell_type": "code",
   "execution_count": 55,
   "id": "1dd04f4a",
   "metadata": {},
   "outputs": [
    {
     "data": {
      "text/plain": [
       "0.2727272727272727"
      ]
     },
     "execution_count": 55,
     "metadata": {},
     "output_type": "execute_result"
    }
   ],
   "source": [
    "mca.total_inertia_"
   ]
  },
  {
   "cell_type": "code",
   "execution_count": 56,
   "id": "10ebaecd",
   "metadata": {},
   "outputs": [
    {
     "data": {
      "text/plain": [
       "[0.7231250580363409, 0.23120964710417374]"
      ]
     },
     "execution_count": 56,
     "metadata": {},
     "output_type": "execute_result"
    }
   ],
   "source": [
    "mca.explained_inertia_"
   ]
  },
  {
   "cell_type": "code",
   "execution_count": 57,
   "id": "8341c8aa",
   "metadata": {},
   "outputs": [],
   "source": [
    "import pandas as pd\n",
    "\n",
    "X = pd.DataFrame(\n",
    "     data=[\n",
    "         [1, 6, 7, 2, 5, 7, 6, 3, 6, 7],\n",
    "         [5, 3, 2, 4, 4, 4, 2, 4, 4, 3],\n",
    "         [6, 1, 1, 5, 2, 1, 1, 7, 1, 1],\n",
    "         [7, 1, 2, 7, 2, 1, 2, 2, 2, 2],\n",
    "         [2, 5, 4, 3, 5, 6, 5, 2, 6, 6],\n",
    "         [3, 4, 4, 3, 5, 4, 5, 1, 7, 5]\n",
    "     ],\n",
    "     columns=['E1 fruity', 'E1 woody', 'E1 coffee',\n",
    "              'E2 red fruit', 'E2 roasted', 'E2 vanillin', 'E2 woody',\n",
    "              'E3 fruity', 'E3 butter', 'E3 woody'],\n",
    "     index=['Wine {}'.format(i+1) for i in range(6)]\n",
    ")\n",
    "X['Oak type'] = [1, 2, 2, 2, 1, 1]"
   ]
  },
  {
   "cell_type": "code",
   "execution_count": 58,
   "id": "22de421a",
   "metadata": {},
   "outputs": [
    {
     "name": "stdout",
     "output_type": "stream",
     "text": [
      "{'Expert #1': ['E1 fruity', 'E1 woody', 'E1 coffee'],\n",
      " 'Expert #2': ['E2 red fruit', 'E2 roasted', 'E2 vanillin', 'E2 woody'],\n",
      " 'Expert #3': ['E3 fruity', 'E3 butter', 'E3 woody']}\n"
     ]
    }
   ],
   "source": [
    "groups = {\n",
    "...    'Expert #{}'.format(no+1): [c for c in X.columns if c.startswith('E{}'.format(no+1))]\n",
    "...    for no in range(3)\n",
    "... }\n",
    "import pprint\n",
    "pprint.pprint(groups)"
   ]
  },
  {
   "cell_type": "code",
   "execution_count": 59,
   "id": "b067d23c",
   "metadata": {},
   "outputs": [],
   "source": [
    "import prince\n",
    "mfa = prince.MFA(\n",
    "     groups=groups,\n",
    "     n_components=2,\n",
    "     n_iter=3,\n",
    "     copy=True,\n",
    "     check_input=True,\n",
    "     engine='auto',\n",
    "     random_state=42\n",
    ")\n",
    "mfa = mfa.fit(X)"
   ]
  },
  {
   "cell_type": "code",
   "execution_count": 60,
   "id": "f1ae3279",
   "metadata": {},
   "outputs": [
    {
     "data": {
      "text/html": [
       "<div>\n",
       "<style scoped>\n",
       "    .dataframe tbody tr th:only-of-type {\n",
       "        vertical-align: middle;\n",
       "    }\n",
       "\n",
       "    .dataframe tbody tr th {\n",
       "        vertical-align: top;\n",
       "    }\n",
       "\n",
       "    .dataframe thead th {\n",
       "        text-align: right;\n",
       "    }\n",
       "</style>\n",
       "<table border=\"1\" class=\"dataframe\">\n",
       "  <thead>\n",
       "    <tr style=\"text-align: right;\">\n",
       "      <th></th>\n",
       "      <th>0</th>\n",
       "      <th>1</th>\n",
       "    </tr>\n",
       "  </thead>\n",
       "  <tbody>\n",
       "    <tr>\n",
       "      <th>Wine 1</th>\n",
       "      <td>-2.172155</td>\n",
       "      <td>-0.508596</td>\n",
       "    </tr>\n",
       "    <tr>\n",
       "      <th>Wine 2</th>\n",
       "      <td>0.557017</td>\n",
       "      <td>-0.197408</td>\n",
       "    </tr>\n",
       "    <tr>\n",
       "      <th>Wine 3</th>\n",
       "      <td>2.317663</td>\n",
       "      <td>-0.830259</td>\n",
       "    </tr>\n",
       "    <tr>\n",
       "      <th>Wine 4</th>\n",
       "      <td>1.832557</td>\n",
       "      <td>0.905046</td>\n",
       "    </tr>\n",
       "    <tr>\n",
       "      <th>Wine 5</th>\n",
       "      <td>-1.403787</td>\n",
       "      <td>0.054977</td>\n",
       "    </tr>\n",
       "    <tr>\n",
       "      <th>Wine 6</th>\n",
       "      <td>-1.131296</td>\n",
       "      <td>0.576241</td>\n",
       "    </tr>\n",
       "  </tbody>\n",
       "</table>\n",
       "</div>"
      ],
      "text/plain": [
       "               0         1\n",
       "Wine 1 -2.172155 -0.508596\n",
       "Wine 2  0.557017 -0.197408\n",
       "Wine 3  2.317663 -0.830259\n",
       "Wine 4  1.832557  0.905046\n",
       "Wine 5 -1.403787  0.054977\n",
       "Wine 6 -1.131296  0.576241"
      ]
     },
     "execution_count": 60,
     "metadata": {},
     "output_type": "execute_result"
    }
   ],
   "source": [
    "mfa.row_coordinates(X)"
   ]
  },
  {
   "cell_type": "code",
   "execution_count": null,
   "id": "2a11c9f7",
   "metadata": {},
   "outputs": [],
   "source": []
  },
  {
   "cell_type": "code",
   "execution_count": 61,
   "id": "d68af0c2",
   "metadata": {},
   "outputs": [
    {
     "data": {
      "image/png": "[encoded data removed]",
      "text/plain": [
       "<Figure size 432x432 with 1 Axes>"
      ]
     },
     "metadata": {
      "needs_background": "light"
     },
     "output_type": "display_data"
    }
   ],
   "source": [
    "ax = mfa.plot_row_coordinates(\n",
    "...     X,\n",
    "...     ax=None,\n",
    "...     figsize=(6, 6),\n",
    "...     x_component=0,\n",
    "...     y_component=1,\n",
    "...     labels=X.index,\n",
    "...     color_labels=['Oak type {}'.format(t) for t in X['Oak type']],\n",
    "...     ellipse_outline=False,\n",
    "...     ellipse_fill=True,\n",
    "...     show_points=True\n",
    "... )\n",
    "ax.get_figure().savefig('images/mfa_row_coordinates.svg')"
   ]
  },
  {
   "cell_type": "code",
   "execution_count": 62,
   "id": "c5460ddf",
   "metadata": {},
   "outputs": [
    {
     "data": {
      "text/html": [
       "<div>\n",
       "<style scoped>\n",
       "    .dataframe tbody tr th:only-of-type {\n",
       "        vertical-align: middle;\n",
       "    }\n",
       "\n",
       "    .dataframe tbody tr th {\n",
       "        vertical-align: top;\n",
       "    }\n",
       "\n",
       "    .dataframe thead tr th {\n",
       "        text-align: left;\n",
       "    }\n",
       "</style>\n",
       "<table border=\"1\" class=\"dataframe\">\n",
       "  <thead>\n",
       "    <tr>\n",
       "      <th></th>\n",
       "      <th colspan=\"2\" halign=\"left\">Expert #1</th>\n",
       "      <th colspan=\"2\" halign=\"left\">Expert #2</th>\n",
       "      <th colspan=\"2\" halign=\"left\">Expert #3</th>\n",
       "    </tr>\n",
       "    <tr>\n",
       "      <th></th>\n",
       "      <th>0</th>\n",
       "      <th>1</th>\n",
       "      <th>0</th>\n",
       "      <th>1</th>\n",
       "      <th>0</th>\n",
       "      <th>1</th>\n",
       "    </tr>\n",
       "  </thead>\n",
       "  <tbody>\n",
       "    <tr>\n",
       "      <th>Wine 1</th>\n",
       "      <td>-2.764432</td>\n",
       "      <td>-1.104812</td>\n",
       "      <td>-2.213928</td>\n",
       "      <td>-0.863519</td>\n",
       "      <td>-1.538106</td>\n",
       "      <td>0.442545</td>\n",
       "    </tr>\n",
       "    <tr>\n",
       "      <th>Wine 2</th>\n",
       "      <td>0.773034</td>\n",
       "      <td>0.298919</td>\n",
       "      <td>0.284247</td>\n",
       "      <td>-0.132135</td>\n",
       "      <td>0.613771</td>\n",
       "      <td>-0.759009</td>\n",
       "    </tr>\n",
       "    <tr>\n",
       "      <th>Wine 3</th>\n",
       "      <td>1.991398</td>\n",
       "      <td>0.805893</td>\n",
       "      <td>2.111508</td>\n",
       "      <td>0.499718</td>\n",
       "      <td>2.850084</td>\n",
       "      <td>-3.796390</td>\n",
       "    </tr>\n",
       "    <tr>\n",
       "      <th>Wine 4</th>\n",
       "      <td>1.981456</td>\n",
       "      <td>0.927187</td>\n",
       "      <td>2.393009</td>\n",
       "      <td>1.227146</td>\n",
       "      <td>1.123206</td>\n",
       "      <td>0.560803</td>\n",
       "    </tr>\n",
       "    <tr>\n",
       "      <th>Wine 5</th>\n",
       "      <td>-1.292834</td>\n",
       "      <td>-0.620661</td>\n",
       "      <td>-1.492114</td>\n",
       "      <td>-0.488088</td>\n",
       "      <td>-1.426414</td>\n",
       "      <td>1.273679</td>\n",
       "    </tr>\n",
       "    <tr>\n",
       "      <th>Wine 6</th>\n",
       "      <td>-0.688623</td>\n",
       "      <td>-0.306527</td>\n",
       "      <td>-1.082723</td>\n",
       "      <td>-0.243122</td>\n",
       "      <td>-1.622541</td>\n",
       "      <td>2.278372</td>\n",
       "    </tr>\n",
       "  </tbody>\n",
       "</table>\n",
       "</div>"
      ],
      "text/plain": [
       "       Expert #1           Expert #2           Expert #3          \n",
       "               0         1         0         1         0         1\n",
       "Wine 1 -2.764432 -1.104812 -2.213928 -0.863519 -1.538106  0.442545\n",
       "Wine 2  0.773034  0.298919  0.284247 -0.132135  0.613771 -0.759009\n",
       "Wine 3  1.991398  0.805893  2.111508  0.499718  2.850084 -3.796390\n",
       "Wine 4  1.981456  0.927187  2.393009  1.227146  1.123206  0.560803\n",
       "Wine 5 -1.292834 -0.620661 -1.492114 -0.488088 -1.426414  1.273679\n",
       "Wine 6 -0.688623 -0.306527 -1.082723 -0.243122 -1.622541  2.278372"
      ]
     },
     "execution_count": 62,
     "metadata": {},
     "output_type": "execute_result"
    }
   ],
   "source": [
    "mfa.partial_row_coordinates(X)  # doctest: +NORMALIZE_WHITESPACE"
   ]
  },
  {
   "cell_type": "code",
   "execution_count": 63,
   "id": "b4838ea5",
   "metadata": {},
   "outputs": [
    {
     "data": {
      "image/png": "[encoded data removed]",
      "text/plain": [
       "<Figure size 432x432 with 1 Axes>"
      ]
     },
     "metadata": {
      "needs_background": "light"
     },
     "output_type": "display_data"
    }
   ],
   "source": [
    "ax = mfa.plot_partial_row_coordinates(\n",
    "...     X,\n",
    "...     ax=None,\n",
    "...     figsize=(6, 6),\n",
    "...     x_component=0,\n",
    "...     y_component=1,\n",
    "...     color_labels=['Oak type {}'.format(t) for t in X['Oak type']]\n",
    "... )\n",
    "ax.get_figure().savefig('images/mfa_partial_row_coordinates.svg')"
   ]
  },
  {
   "cell_type": "code",
   "execution_count": 64,
   "id": "36844564",
   "metadata": {},
   "outputs": [
    {
     "data": {
      "text/plain": [
       "array([0.47246678, 0.05947651])"
      ]
     },
     "execution_count": 64,
     "metadata": {},
     "output_type": "execute_result"
    }
   ],
   "source": [
    "mfa.eigenvalues_"
   ]
  },
  {
   "cell_type": "code",
   "execution_count": 65,
   "id": "93289e12",
   "metadata": {},
   "outputs": [
    {
     "data": {
      "text/plain": [
       "0.5588340349908131"
      ]
     },
     "execution_count": 65,
     "metadata": {},
     "output_type": "execute_result"
    }
   ],
   "source": [
    "mfa.total_inertia_"
   ]
  },
  {
   "cell_type": "code",
   "execution_count": 66,
   "id": "0762426a",
   "metadata": {},
   "outputs": [
    {
     "data": {
      "text/plain": [
       "array([0.84545097, 0.10642965])"
      ]
     },
     "execution_count": 66,
     "metadata": {},
     "output_type": "execute_result"
    }
   ],
   "source": [
    "mfa.explained_inertia_"
   ]
  },
  {
   "cell_type": "code",
   "execution_count": 67,
   "id": "c6d692e5",
   "metadata": {},
   "outputs": [
    {
     "name": "stdout",
     "output_type": "stream",
     "text": [
      "Expert #1 eigenvalues: [0.47709918 0.01997272]\n",
      "Expert #2 eigenvalues: [0.60851399 0.03235984]\n",
      "Expert #3 eigenvalues: [0.41341481 0.07353257]\n"
     ]
    }
   ],
   "source": [
    "for name, fa in sorted(mfa.partial_factor_analysis_.items()):\n",
    "...     print('{} eigenvalues: {}'.format(name, fa.eigenvalues_))"
   ]
  },
  {
   "cell_type": "code",
   "execution_count": 68,
   "id": "3ceaf287",
   "metadata": {},
   "outputs": [
    {
     "data": {
      "text/html": [
       "<div>\n",
       "<style scoped>\n",
       "    .dataframe tbody tr th:only-of-type {\n",
       "        vertical-align: middle;\n",
       "    }\n",
       "\n",
       "    .dataframe tbody tr th {\n",
       "        vertical-align: top;\n",
       "    }\n",
       "\n",
       "    .dataframe thead th {\n",
       "        text-align: right;\n",
       "    }\n",
       "</style>\n",
       "<table border=\"1\" class=\"dataframe\">\n",
       "  <thead>\n",
       "    <tr style=\"text-align: right;\">\n",
       "      <th></th>\n",
       "      <th>0</th>\n",
       "      <th>1</th>\n",
       "    </tr>\n",
       "  </thead>\n",
       "  <tbody>\n",
       "    <tr>\n",
       "      <th>Wine 1</th>\n",
       "      <td>9.986433</td>\n",
       "      <td>4.349104</td>\n",
       "    </tr>\n",
       "    <tr>\n",
       "      <th>Wine 2</th>\n",
       "      <td>0.656699</td>\n",
       "      <td>0.655218</td>\n",
       "    </tr>\n",
       "    <tr>\n",
       "      <th>Wine 3</th>\n",
       "      <td>11.369187</td>\n",
       "      <td>11.589968</td>\n",
       "    </tr>\n",
       "    <tr>\n",
       "      <th>Wine 4</th>\n",
       "      <td>7.107942</td>\n",
       "      <td>13.771950</td>\n",
       "    </tr>\n",
       "    <tr>\n",
       "      <th>Wine 5</th>\n",
       "      <td>4.170915</td>\n",
       "      <td>0.050817</td>\n",
       "    </tr>\n",
       "    <tr>\n",
       "      <th>Wine 6</th>\n",
       "      <td>2.708824</td>\n",
       "      <td>5.582943</td>\n",
       "    </tr>\n",
       "  </tbody>\n",
       "</table>\n",
       "</div>"
      ],
      "text/plain": [
       "                0          1\n",
       "Wine 1   9.986433   4.349104\n",
       "Wine 2   0.656699   0.655218\n",
       "Wine 3  11.369187  11.589968\n",
       "Wine 4   7.107942  13.771950\n",
       "Wine 5   4.170915   0.050817\n",
       "Wine 6   2.708824   5.582943"
      ]
     },
     "execution_count": 68,
     "metadata": {},
     "output_type": "execute_result"
    }
   ],
   "source": [
    "mfa.row_contributions(X)"
   ]
  },
  {
   "cell_type": "code",
   "execution_count": 69,
   "id": "5231cf98",
   "metadata": {},
   "outputs": [
    {
     "data": {
      "text/html": [
       "<div>\n",
       "<style scoped>\n",
       "    .dataframe tbody tr th:only-of-type {\n",
       "        vertical-align: middle;\n",
       "    }\n",
       "\n",
       "    .dataframe tbody tr th {\n",
       "        vertical-align: top;\n",
       "    }\n",
       "\n",
       "    .dataframe thead th {\n",
       "        text-align: right;\n",
       "    }\n",
       "</style>\n",
       "<table border=\"1\" class=\"dataframe\">\n",
       "  <thead>\n",
       "    <tr style=\"text-align: right;\">\n",
       "      <th></th>\n",
       "      <th>0</th>\n",
       "      <th>1</th>\n",
       "    </tr>\n",
       "  </thead>\n",
       "  <tbody>\n",
       "    <tr>\n",
       "      <th>E1 coffee</th>\n",
       "      <td>-0.918449</td>\n",
       "      <td>-0.043444</td>\n",
       "    </tr>\n",
       "    <tr>\n",
       "      <th>E1 fruity</th>\n",
       "      <td>0.968449</td>\n",
       "      <td>0.192294</td>\n",
       "    </tr>\n",
       "    <tr>\n",
       "      <th>E1 woody</th>\n",
       "      <td>-0.984442</td>\n",
       "      <td>-0.120198</td>\n",
       "    </tr>\n",
       "    <tr>\n",
       "      <th>E2 red fruit</th>\n",
       "      <td>0.887263</td>\n",
       "      <td>0.357632</td>\n",
       "    </tr>\n",
       "    <tr>\n",
       "      <th>E2 roasted</th>\n",
       "      <td>-0.955795</td>\n",
       "      <td>0.026039</td>\n",
       "    </tr>\n",
       "    <tr>\n",
       "      <th>E2 vanillin</th>\n",
       "      <td>-0.950629</td>\n",
       "      <td>-0.177883</td>\n",
       "    </tr>\n",
       "    <tr>\n",
       "      <th>E2 woody</th>\n",
       "      <td>-0.974649</td>\n",
       "      <td>0.127239</td>\n",
       "    </tr>\n",
       "    <tr>\n",
       "      <th>E3 butter</th>\n",
       "      <td>-0.945767</td>\n",
       "      <td>0.221441</td>\n",
       "    </tr>\n",
       "    <tr>\n",
       "      <th>E3 fruity</th>\n",
       "      <td>0.594649</td>\n",
       "      <td>-0.820777</td>\n",
       "    </tr>\n",
       "    <tr>\n",
       "      <th>E3 woody</th>\n",
       "      <td>-0.992337</td>\n",
       "      <td>0.029747</td>\n",
       "    </tr>\n",
       "  </tbody>\n",
       "</table>\n",
       "</div>"
      ],
      "text/plain": [
       "                     0         1\n",
       "E1 coffee    -0.918449 -0.043444\n",
       "E1 fruity     0.968449  0.192294\n",
       "E1 woody     -0.984442 -0.120198\n",
       "E2 red fruit  0.887263  0.357632\n",
       "E2 roasted   -0.955795  0.026039\n",
       "E2 vanillin  -0.950629 -0.177883\n",
       "E2 woody     -0.974649  0.127239\n",
       "E3 butter    -0.945767  0.221441\n",
       "E3 fruity     0.594649 -0.820777\n",
       "E3 woody     -0.992337  0.029747"
      ]
     },
     "execution_count": 69,
     "metadata": {},
     "output_type": "execute_result"
    }
   ],
   "source": [
    "mfa.column_correlations(X)"
   ]
  },
  {
   "cell_type": "markdown",
   "id": "2d5961fc",
   "metadata": {},
   "source": [
    "# Factor analysis of mixed data (FAMD)\n",
    "A description is on it's way. This section is empty because I have to refactor the documentation a bit."
   ]
  },
  {
   "cell_type": "code",
   "execution_count": 70,
   "id": "a88c5acd",
   "metadata": {},
   "outputs": [],
   "source": [
    "import pandas as pd\n",
    "\n",
    "X = pd.DataFrame(\n",
    "     data=[\n",
    "         ['A', 'A', 'A', 2, 5, 7, 6, 3, 6, 7],\n",
    "         ['A', 'A', 'A', 4, 4, 4, 2, 4, 4, 3],\n",
    "         ['B', 'A', 'B', 5, 2, 1, 1, 7, 1, 1],\n",
    "         ['B', 'A', 'B', 7, 2, 1, 2, 2, 2, 2],\n",
    "         ['B', 'B', 'B', 3, 5, 6, 5, 2, 6, 6],\n",
    "         ['B', 'B', 'A', 3, 5, 4, 5, 1, 7, 5]\n",
    "     ],\n",
    "     columns=['E1 fruity', 'E1 woody', 'E1 coffee',\n",
    "              'E2 red fruit', 'E2 roasted', 'E2 vanillin', 'E2 woody',\n",
    "              'E3 fruity', 'E3 butter', 'E3 woody'],\n",
    "     index=['Wine {}'.format(i+1) for i in range(6)]\n",
    ")\n",
    "X['Oak type'] = [1, 2, 2, 2, 1, 1]"
   ]
  },
  {
   "cell_type": "code",
   "execution_count": 71,
   "id": "b6702ab3",
   "metadata": {},
   "outputs": [],
   "source": [
    "import prince\n",
    "famd = prince.FAMD(\n",
    "    n_components=2,\n",
    "    n_iter=3,\n",
    "    copy=True,\n",
    "    check_input=True,\n",
    "    engine='auto',\n",
    "    random_state=42\n",
    ")\n",
    "famd = famd.fit(X.drop('Oak type', axis='columns'))"
   ]
  },
  {
   "cell_type": "code",
   "execution_count": 72,
   "id": "0c4e0717",
   "metadata": {},
   "outputs": [
    {
     "data": {
      "text/html": [
       "<div>\n",
       "<style scoped>\n",
       "    .dataframe tbody tr th:only-of-type {\n",
       "        vertical-align: middle;\n",
       "    }\n",
       "\n",
       "    .dataframe tbody tr th {\n",
       "        vertical-align: top;\n",
       "    }\n",
       "\n",
       "    .dataframe thead th {\n",
       "        text-align: right;\n",
       "    }\n",
       "</style>\n",
       "<table border=\"1\" class=\"dataframe\">\n",
       "  <thead>\n",
       "    <tr style=\"text-align: right;\">\n",
       "      <th></th>\n",
       "      <th>0</th>\n",
       "      <th>1</th>\n",
       "    </tr>\n",
       "  </thead>\n",
       "  <tbody>\n",
       "    <tr>\n",
       "      <th>Wine 1</th>\n",
       "      <td>-1.488689</td>\n",
       "      <td>-1.002711</td>\n",
       "    </tr>\n",
       "    <tr>\n",
       "      <th>Wine 2</th>\n",
       "      <td>-0.449783</td>\n",
       "      <td>-1.354847</td>\n",
       "    </tr>\n",
       "    <tr>\n",
       "      <th>Wine 3</th>\n",
       "      <td>1.774255</td>\n",
       "      <td>-0.258528</td>\n",
       "    </tr>\n",
       "    <tr>\n",
       "      <th>Wine 4</th>\n",
       "      <td>1.565402</td>\n",
       "      <td>0.016484</td>\n",
       "    </tr>\n",
       "    <tr>\n",
       "      <th>Wine 5</th>\n",
       "      <td>-0.349655</td>\n",
       "      <td>1.516425</td>\n",
       "    </tr>\n",
       "    <tr>\n",
       "      <th>Wine 6</th>\n",
       "      <td>-1.051531</td>\n",
       "      <td>1.083178</td>\n",
       "    </tr>\n",
       "  </tbody>\n",
       "</table>\n",
       "</div>"
      ],
      "text/plain": [
       "               0         1\n",
       "Wine 1 -1.488689 -1.002711\n",
       "Wine 2 -0.449783 -1.354847\n",
       "Wine 3  1.774255 -0.258528\n",
       "Wine 4  1.565402  0.016484\n",
       "Wine 5 -0.349655  1.516425\n",
       "Wine 6 -1.051531  1.083178"
      ]
     },
     "execution_count": 72,
     "metadata": {},
     "output_type": "execute_result"
    }
   ],
   "source": [
    "famd.row_coordinates(X)"
   ]
  },
  {
   "cell_type": "code",
   "execution_count": 73,
   "id": "dc8a1e9b",
   "metadata": {},
   "outputs": [
    {
     "data": {
      "image/png": "[encoded data removed]",
      "text/plain": [
       "<Figure size 432x432 with 1 Axes>"
      ]
     },
     "metadata": {
      "needs_background": "light"
     },
     "output_type": "display_data"
    }
   ],
   "source": [
    "ax = famd.plot_row_coordinates(\n",
    "...     X,\n",
    "...     ax=None,\n",
    "...     figsize=(6, 6),\n",
    "...     x_component=0,\n",
    "...     y_component=1,\n",
    "...     labels=X.index,\n",
    "...     color_labels=['Oak type {}'.format(t) for t in X['Oak type']],\n",
    "...     ellipse_outline=False,\n",
    "...     ellipse_fill=True,\n",
    "...     show_points=True\n",
    "... )\n",
    "ax.get_figure().savefig('images/famd_row_coordinates.svg')"
   ]
  },
  {
   "cell_type": "code",
   "execution_count": null,
   "id": "b3dfccd7",
   "metadata": {},
   "outputs": [],
   "source": []
  }
 ],
 "metadata": {
  "kernelspec": {
   "display_name": "Python 3 (ipykernel)",
   "language": "python",
   "name": "python3"
  },
  "language_info": {
   "codemirror_mode": {
    "name": "ipython",
    "version": 3
   },
   "file_extension": ".py",
   "mimetype": "text/x-python",
   "name": "python",
   "nbconvert_exporter": "python",
   "pygments_lexer": "ipython3",
   "version": "3.9.7"
  }
 },
 "nbformat": 4,
 "nbformat_minor": 5
}
